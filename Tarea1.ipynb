{
  "nbformat": 4,
  "nbformat_minor": 0,
  "metadata": {
    "colab": {
      "provenance": []
    },
    "kernelspec": {
      "name": "python3",
      "display_name": "Python 3"
    },
    "language_info": {
      "name": "python"
    }
  },
  "cells": [
    {
      "cell_type": "code",
      "source": [
        "import matplotlib.pyplot as plt"
      ],
      "metadata": {
        "id": "zNyWkVtMu9ux"
      },
      "execution_count": 1,
      "outputs": []
    },
    {
      "cell_type": "code",
      "execution_count": 2,
      "metadata": {
        "id": "aDLHczCJniDo"
      },
      "outputs": [],
      "source": [
        "import pandas as pd\n",
        "\n",
        "df=pd.read_csv ('movies.csv')\n",
        "\n",
        "\n"
      ]
    },
    {
      "cell_type": "code",
      "source": [
        "print(df.columns)\n",
        "print(df.shape)"
      ],
      "metadata": {
        "colab": {
          "base_uri": "https://localhost:8080/",
          "height": 0
        },
        "id": "AEUTuF33r11h",
        "outputId": "c92ac44d-df48-4a7c-9946-33f774cbeed1"
      },
      "execution_count": 3,
      "outputs": [
        {
          "output_type": "stream",
          "name": "stdout",
          "text": [
            "Index(['millones', 'budget', 'company', 'country', 'director', 'genre',\n",
            "       'gross', 'name', 'rating', 'released', 'runtime', 'score', 'star',\n",
            "       'votes', 'writer', 'year'],\n",
            "      dtype='object')\n",
            "(6820, 16)\n"
          ]
        }
      ]
    },
    {
      "cell_type": "code",
      "source": [
        "print(df.head(8))\n",
        "print(df.tail)"
      ],
      "metadata": {
        "colab": {
          "base_uri": "https://localhost:8080/",
          "height": 0
        },
        "collapsed": true,
        "id": "iayJeWpyr47w",
        "outputId": "c7c98821-ed69-4742-a4a3-c04cb138830e"
      },
      "execution_count": 4,
      "outputs": [
        {
          "output_type": "stream",
          "name": "stdout",
          "text": [
            "   millones    budget                                  company country  \\\n",
            "0       8.0   8000000            Columbia Pictures Corporation     USA   \n",
            "1       6.0   6000000                       Paramount Pictures     USA   \n",
            "2      15.0  15000000                       Paramount Pictures     USA   \n",
            "3      18.5  18500000   Twentieth Century Fox Film Corporation     USA   \n",
            "4       9.0   9000000                     Walt Disney Pictures     USA   \n",
            "5       6.0   6000000                                  Hemdale      UK   \n",
            "6      25.0  25000000                   Henson Associates (HA)      UK   \n",
            "7       6.0   6000000  De Laurentiis Entertainment Group (DEG)     USA   \n",
            "\n",
            "         director      genre      gross                      name rating  \\\n",
            "0      Rob Reiner  Adventure   52287414               Stand by Me      R   \n",
            "1     John Hughes     Comedy   70136369  Ferris Bueller's Day Off  PG-13   \n",
            "2      Tony Scott     Action  179800601                   Top Gun     PG   \n",
            "3   James Cameron     Action   85160248                    Aliens      R   \n",
            "4  Randal Kleiser  Adventure   18564613   Flight of the Navigator     PG   \n",
            "5    Oliver Stone      Drama  138530565                   Platoon      R   \n",
            "6      Jim Henson  Adventure   12729917                 Labyrinth     PG   \n",
            "7     David Lynch      Drama    8551228               Blue Velvet      R   \n",
            "\n",
            "     released  runtime  score                 star   votes         writer  \\\n",
            "0  22/08/1986       89    8.1          Wil Wheaton  299174   Stephen King   \n",
            "1  11/06/1986      103    7.8    Matthew Broderick  264740    John Hughes   \n",
            "2  16/05/1986      110    6.9           Tom Cruise  236909       Jim Cash   \n",
            "3  18/07/1986      137    8.4     Sigourney Weaver  540152  James Cameron   \n",
            "4  01/08/1986       90    6.9          Joey Cramer   36636  Mark H. Baker   \n",
            "5  06/02/1987      120    8.1        Charlie Sheen  317585   Oliver Stone   \n",
            "6  27/06/1986      101    7.4          David Bowie  102879     Dennis Lee   \n",
            "7  23/10/1986      120    7.8  Isabella Rossellini  146768    David Lynch   \n",
            "\n",
            "   year  \n",
            "0  1986  \n",
            "1  1986  \n",
            "2  1986  \n",
            "3  1986  \n",
            "4  1986  \n",
            "5  1986  \n",
            "6  1986  \n",
            "7  1986  \n",
            "<bound method NDFrame.tail of       millones    budget                                 company country  \\\n",
            "0          8.0   8000000           Columbia Pictures Corporation     USA   \n",
            "1          6.0   6000000                      Paramount Pictures     USA   \n",
            "2         15.0  15000000                      Paramount Pictures     USA   \n",
            "3         18.5  18500000  Twentieth Century Fox Film Corporation     USA   \n",
            "4          9.0   9000000                    Walt Disney Pictures     USA   \n",
            "...        ...       ...                                     ...     ...   \n",
            "6815       0.0         0                Fox Searchlight Pictures      UK   \n",
            "6816       0.0         0                Siempre Viva Productions     USA   \n",
            "6817       3.5   3500000                  Warner Bros. Animation     USA   \n",
            "6818       0.0         0                     Borderline Presents     USA   \n",
            "6819       0.0         0               Les Productions du Tr����  France   \n",
            "\n",
            "             director      genre      gross                            name  \\\n",
            "0          Rob Reiner  Adventure   52287414                     Stand by Me   \n",
            "1         John Hughes     Comedy   70136369        Ferris Bueller's Day Off   \n",
            "2          Tony Scott     Action  179800601                         Top Gun   \n",
            "3       James Cameron     Action   85160248                          Aliens   \n",
            "4      Randal Kleiser  Adventure   18564613         Flight of the Navigator   \n",
            "...               ...        ...        ...                             ...   \n",
            "6815  Mandie Fletcher     Comedy    4750497  Absolutely Fabulous: The Movie   \n",
            "6816   Paul Duddridge      Drama      28368           Mothers and Daughters   \n",
            "6817          Sam Liu  Animation    3775000        Batman: The Killing Joke   \n",
            "6818    Nicolas Pesce      Drama      25981           The Eyes of My Mother   \n",
            "6819    Nicole Garcia      Drama      37757       From the Land of the Moon   \n",
            "\n",
            "     rating    released  runtime  score               star   votes  \\\n",
            "0         R  22/08/1986       89    8.1        Wil Wheaton  299174   \n",
            "1     PG-13  11/06/1986      103    7.8  Matthew Broderick  264740   \n",
            "2        PG  16/05/1986      110    6.9         Tom Cruise  236909   \n",
            "3         R  18/07/1986      137    8.4   Sigourney Weaver  540152   \n",
            "4        PG  01/08/1986       90    6.9        Joey Cramer   36636   \n",
            "...     ...         ...      ...    ...                ...     ...   \n",
            "6815      R  22/07/2016       91    5.4  Jennifer Saunders    9161   \n",
            "6816  PG-13  06/05/2016       90    4.9        Selma Blair    1959   \n",
            "6817      R  25/07/2016       76    6.5       Kevin Conroy   36333   \n",
            "6818      R  02/12/2016       76    6.2     Kika Magalh���    6947   \n",
            "6819      R  28/07/2017      120    6.7   Marion Cotillard    2411   \n",
            "\n",
            "                 writer  year  \n",
            "0          Stephen King  1986  \n",
            "1           John Hughes  1986  \n",
            "2              Jim Cash  1986  \n",
            "3         James Cameron  1986  \n",
            "4         Mark H. Baker  1986  \n",
            "...                 ...   ...  \n",
            "6815  Jennifer Saunders  2016  \n",
            "6816      Paige Cameron  2016  \n",
            "6817    Brian Azzarello  2016  \n",
            "6818      Nicolas Pesce  2016  \n",
            "6819        Milena Agus  2016  \n",
            "\n",
            "[6820 rows x 16 columns]>\n"
          ]
        }
      ]
    },
    {
      "cell_type": "code",
      "source": [
        "print(df.info())"
      ],
      "metadata": {
        "collapsed": true,
        "colab": {
          "base_uri": "https://localhost:8080/",
          "height": 0
        },
        "id": "OEQycG8bsHfP",
        "outputId": "7997810f-8574-4975-eef9-8971c65d333f"
      },
      "execution_count": 5,
      "outputs": [
        {
          "output_type": "stream",
          "name": "stdout",
          "text": [
            "<class 'pandas.core.frame.DataFrame'>\n",
            "RangeIndex: 6820 entries, 0 to 6819\n",
            "Data columns (total 16 columns):\n",
            " #   Column    Non-Null Count  Dtype  \n",
            "---  ------    --------------  -----  \n",
            " 0   millones  6820 non-null   float64\n",
            " 1   budget    6820 non-null   int64  \n",
            " 2   company   6820 non-null   object \n",
            " 3   country   6820 non-null   object \n",
            " 4   director  6820 non-null   object \n",
            " 5   genre     6820 non-null   object \n",
            " 6   gross     6820 non-null   int64  \n",
            " 7   name      6820 non-null   object \n",
            " 8   rating    6820 non-null   object \n",
            " 9   released  6820 non-null   object \n",
            " 10  runtime   6820 non-null   int64  \n",
            " 11  score     6820 non-null   float64\n",
            " 12  star      6820 non-null   object \n",
            " 13  votes     6820 non-null   int64  \n",
            " 14  writer    6820 non-null   object \n",
            " 15  year      6820 non-null   int64  \n",
            "dtypes: float64(2), int64(5), object(9)\n",
            "memory usage: 852.6+ KB\n",
            "None\n"
          ]
        }
      ]
    },
    {
      "cell_type": "code",
      "source": [
        "#seleccion de 8 columnas\n",
        "\n",
        "# Selección  de columnas\n",
        "df2 = df[['budget', 'score', 'released', 'genre', 'company', 'country', 'director']]\n",
        "print(df.shape)\n",
        "print(df2)\n",
        "print(df2)"
      ],
      "metadata": {
        "colab": {
          "base_uri": "https://localhost:8080/",
          "height": 0
        },
        "id": "e83a_JX-q2kT",
        "outputId": "03dbd920-4a15-4881-ccb6-767b6ae3b6c8"
      },
      "execution_count": 17,
      "outputs": [
        {
          "output_type": "stream",
          "name": "stdout",
          "text": [
            "(6820, 16)\n",
            "        budget  score    released      genre  \\\n",
            "0      8000000    8.1  22/08/1986  Adventure   \n",
            "1      6000000    7.8  11/06/1986     Comedy   \n",
            "2     15000000    6.9  16/05/1986     Action   \n",
            "3     18500000    8.4  18/07/1986     Action   \n",
            "4      9000000    6.9  01/08/1986  Adventure   \n",
            "...        ...    ...         ...        ...   \n",
            "6815         0    5.4  22/07/2016     Comedy   \n",
            "6816         0    4.9  06/05/2016      Drama   \n",
            "6817   3500000    6.5  25/07/2016  Animation   \n",
            "6818         0    6.2  02/12/2016      Drama   \n",
            "6819         0    6.7  28/07/2017      Drama   \n",
            "\n",
            "                                     company country         director  \n",
            "0              Columbia Pictures Corporation     USA       Rob Reiner  \n",
            "1                         Paramount Pictures     USA      John Hughes  \n",
            "2                         Paramount Pictures     USA       Tony Scott  \n",
            "3     Twentieth Century Fox Film Corporation     USA    James Cameron  \n",
            "4                       Walt Disney Pictures     USA   Randal Kleiser  \n",
            "...                                      ...     ...              ...  \n",
            "6815                Fox Searchlight Pictures      UK  Mandie Fletcher  \n",
            "6816                Siempre Viva Productions     USA   Paul Duddridge  \n",
            "6817                  Warner Bros. Animation     USA          Sam Liu  \n",
            "6818                     Borderline Presents     USA    Nicolas Pesce  \n",
            "6819               Les Productions du Tr����  France    Nicole Garcia  \n",
            "\n",
            "[6820 rows x 7 columns]\n",
            "        budget  score    released      genre  \\\n",
            "0      8000000    8.1  22/08/1986  Adventure   \n",
            "1      6000000    7.8  11/06/1986     Comedy   \n",
            "2     15000000    6.9  16/05/1986     Action   \n",
            "3     18500000    8.4  18/07/1986     Action   \n",
            "4      9000000    6.9  01/08/1986  Adventure   \n",
            "...        ...    ...         ...        ...   \n",
            "6815         0    5.4  22/07/2016     Comedy   \n",
            "6816         0    4.9  06/05/2016      Drama   \n",
            "6817   3500000    6.5  25/07/2016  Animation   \n",
            "6818         0    6.2  02/12/2016      Drama   \n",
            "6819         0    6.7  28/07/2017      Drama   \n",
            "\n",
            "                                     company country         director  \n",
            "0              Columbia Pictures Corporation     USA       Rob Reiner  \n",
            "1                         Paramount Pictures     USA      John Hughes  \n",
            "2                         Paramount Pictures     USA       Tony Scott  \n",
            "3     Twentieth Century Fox Film Corporation     USA    James Cameron  \n",
            "4                       Walt Disney Pictures     USA   Randal Kleiser  \n",
            "...                                      ...     ...              ...  \n",
            "6815                Fox Searchlight Pictures      UK  Mandie Fletcher  \n",
            "6816                Siempre Viva Productions     USA   Paul Duddridge  \n",
            "6817                  Warner Bros. Animation     USA          Sam Liu  \n",
            "6818                     Borderline Presents     USA    Nicolas Pesce  \n",
            "6819               Les Productions du Tr����  France    Nicole Garcia  \n",
            "\n",
            "[6820 rows x 7 columns]\n"
          ]
        }
      ]
    },
    {
      "cell_type": "code",
      "source": [
        "print(df['year'].describe())"
      ],
      "metadata": {
        "colab": {
          "base_uri": "https://localhost:8080/",
          "height": 0
        },
        "id": "D6VEd2SlsyTI",
        "outputId": "64664522-59c8-4ad0-86fc-f3c6e46cb418"
      },
      "execution_count": 18,
      "outputs": [
        {
          "output_type": "stream",
          "name": "stdout",
          "text": [
            "count    6820.000000\n",
            "mean     2001.000293\n",
            "std         8.944501\n",
            "min      1986.000000\n",
            "25%      1993.000000\n",
            "50%      2001.000000\n",
            "75%      2009.000000\n",
            "max      2016.000000\n",
            "Name: year, dtype: float64\n"
          ]
        }
      ]
    },
    {
      "cell_type": "code",
      "source": [
        "print(df['budget'].describe())"
      ],
      "metadata": {
        "id": "jC1sHmtGItxE",
        "colab": {
          "base_uri": "https://localhost:8080/",
          "height": 0
        },
        "outputId": "95b08a5e-8b1e-44da-f0d0-b44f6c21984c"
      },
      "execution_count": 19,
      "outputs": [
        {
          "output_type": "stream",
          "name": "stdout",
          "text": [
            "count    6.820000e+03\n",
            "mean     2.458113e+07\n",
            "std      3.702254e+07\n",
            "min      0.000000e+00\n",
            "25%      0.000000e+00\n",
            "50%      1.100000e+07\n",
            "75%      3.200000e+07\n",
            "max      3.000000e+08\n",
            "Name: budget, dtype: float64\n"
          ]
        }
      ]
    },
    {
      "cell_type": "code",
      "source": [
        "print(df['released'].describe())"
      ],
      "metadata": {
        "colab": {
          "base_uri": "https://localhost:8080/",
          "height": 0
        },
        "id": "Zt6c07zyI6Xt",
        "outputId": "9ad29f6f-4c74-46b7-a7d0-93ebc88e7cfd"
      },
      "execution_count": 20,
      "outputs": [
        {
          "output_type": "stream",
          "name": "stdout",
          "text": [
            "count           6820\n",
            "unique          2403\n",
            "top       04/10/1991\n",
            "freq              10\n",
            "Name: released, dtype: object\n"
          ]
        }
      ]
    },
    {
      "cell_type": "code",
      "source": [
        "print(df['genre'].value_counts())"
      ],
      "metadata": {
        "colab": {
          "base_uri": "https://localhost:8080/",
          "height": 0
        },
        "id": "7PNcKfdSmfiq",
        "outputId": "f9aba79c-de3f-4738-f76c-0749861fb78f"
      },
      "execution_count": 21,
      "outputs": [
        {
          "output_type": "stream",
          "name": "stdout",
          "text": [
            "genre\n",
            "Comedy       2080\n",
            "Drama        1444\n",
            "Action       1331\n",
            "Crime         522\n",
            "Adventure     392\n",
            "Biography     359\n",
            "Horror        277\n",
            "Animation     277\n",
            "Mystery        38\n",
            "Fantasy        32\n",
            "Thriller       18\n",
            "Romance        15\n",
            "Family         14\n",
            "Sci-Fi         13\n",
            "Musical         4\n",
            "War             2\n",
            "Western         2\n",
            "Name: count, dtype: int64\n"
          ]
        }
      ]
    },
    {
      "cell_type": "code",
      "source": [
        "print(df['company'].value_counts().head(10))"
      ],
      "metadata": {
        "colab": {
          "base_uri": "https://localhost:8080/",
          "height": 0
        },
        "id": "H3X8RGLsmloR",
        "outputId": "8e5b4112-c565-431b-fabb-655fe0da0860"
      },
      "execution_count": 22,
      "outputs": [
        {
          "output_type": "stream",
          "name": "stdout",
          "text": [
            "company\n",
            "Universal Pictures                        302\n",
            "Warner Bros.                              294\n",
            "Paramount Pictures                        259\n",
            "Twentieth Century Fox Film Corporation    205\n",
            "New Line Cinema                           172\n",
            "Columbia Pictures Corporation             166\n",
            "Touchstone Pictures                       131\n",
            "Columbia Pictures                         108\n",
            "Walt Disney Pictures                      102\n",
            "Metro-Goldwyn-Mayer (MGM)                 101\n",
            "Name: count, dtype: int64\n"
          ]
        }
      ]
    },
    {
      "cell_type": "code",
      "source": [
        "import matplotlib.pyplot as plt\n",
        "import pandas as pd\n",
        "\n",
        "# 1. Histograma de presupuestos\n",
        "plt.subplot(221)\n",
        "plt.hist(df2['budget'], color='blue', bins=20)\n",
        "plt.title(\"Distribución de Presupuestos\")\n",
        "plt.xlabel(\"Presupuesto\")\n",
        "plt.ylabel(\"Frecuencia\")\n",
        "plt.subplots_adjust(left=0.1,\n",
        "                    bottom=0.1,\n",
        "                    right=0.9,\n",
        "                    top=0.9,\n",
        "                    wspace=0.4,\n",
        "                    hspace=0.5)\n",
        "# 2. Línea de tendencia de ganancias totales a través del tiempo\n",
        "plt.subplot(222)\n",
        "plt.plot(yearly[\"released\"], yearly[\"budget\"], color=\"green\")\n",
        "plt.title(\"Tendencia de Ganancias Totales por Año\")\n",
        "plt.xlabel(\"Año de Lanzamiento\")\n",
        "plt.ylabel(\"Ganancias Totales\")\n",
        "\n",
        "# 3. Barras con top 10 compañías\n",
        "plt.subplot(223)\n",
        "plt.bar(top10_companies.index, top10_companies.values, color=\"magenta\")\n",
        "plt.title(\"Top 10 Compañías por Ganancias\")\n",
        "\n",
        "\n",
        "plt.tight_layout()\n",
        "plt.show()\n",
        "\n"
      ],
      "metadata": {
        "colab": {
          "base_uri": "https://localhost:8080/",
          "height": 487
        },
        "id": "w8Eh6IYouCtL",
        "outputId": "e93338a4-e5e4-4348-9917-16ed90d5645d"
      },
      "execution_count": 27,
      "outputs": [
        {
          "output_type": "display_data",
          "data": {
            "text/plain": [
              "<Figure size 640x480 with 3 Axes>"
            ],
            "image/png": "[encoded data removed]"
          },
          "metadata": {}
        }
      ]
    }
  ]
}