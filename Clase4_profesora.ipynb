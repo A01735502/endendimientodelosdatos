{
  "nbformat": 4,
  "nbformat_minor": 0,
  "metadata": {
    "colab": {
      "provenance": [],
      "authorship_tag": "ABX9TyPPmTvp4rZ1iljmHgi0ggaL",
      "include_colab_link": true
    },
    "kernelspec": {
      "name": "python3",
      "display_name": "Python 3"
    },
    "language_info": {
      "name": "python"
    }
  },
  "cells": [
    {
      "cell_type": "markdown",
      "metadata": {
        "id": "view-in-github",
        "colab_type": "text"
      },
      "source": [
        "<a href=\"https://colab.research.google.com/github/A01735502/endendimientodelosdatos/blob/main/Clase4_profesora.ipynb\" target=\"_parent\"><img src=\"https://colab.research.google.com/assets/colab-badge.svg\" alt=\"Open In Colab\"/></a>"
      ]
    },
    {
      "cell_type": "code",
      "execution_count": null,
      "metadata": {
        "id": "v4KugtiNvge2"
      },
      "outputs": [],
      "source": []
    },
    {
      "cell_type": "code",
      "source": [
        "import pandas as pd\n",
        "df = pd.read_csv('vendedores_medidas.csv')\n",
        "print(df.columns)\n",
        "print(df.shape)\n"
      ],
      "metadata": {
        "colab": {
          "base_uri": "https://localhost:8080/"
        },
        "id": "hRA3eOx0wL-8",
        "outputId": "61d2172c-5c4c-4656-a76e-932d8347d20e"
      },
      "execution_count": 2,
      "outputs": [
        {
          "output_type": "stream",
          "name": "stdout",
          "text": [
            "Index(['REGION', 'NOMBRE', 'APELLIDO', 'SALARIO', 'UNIDADES_VENDIDAS',\n",
            "       'VENTAS_TOTALES'],\n",
            "      dtype='object')\n",
            "(52, 6)\n"
          ]
        }
      ]
    },
    {
      "cell_type": "code",
      "source": [
        "print(df.count(axis=0))\n",
        "print(df.count(axis=1))"
      ],
      "metadata": {
        "colab": {
          "base_uri": "https://localhost:8080/"
        },
        "id": "rGl3VdWmw88X",
        "outputId": "7ca7fc0d-6ff4-4545-fa84-6aa8b705dfa8"
      },
      "execution_count": 4,
      "outputs": [
        {
          "output_type": "stream",
          "name": "stdout",
          "text": [
            "REGION               52\n",
            "NOMBRE               52\n",
            "APELLIDO             52\n",
            "SALARIO              52\n",
            "UNIDADES_VENDIDAS    52\n",
            "VENTAS_TOTALES       52\n",
            "dtype: int64\n",
            "0     6\n",
            "1     6\n",
            "2     6\n",
            "3     6\n",
            "4     6\n",
            "5     6\n",
            "6     6\n",
            "7     6\n",
            "8     6\n",
            "9     6\n",
            "10    6\n",
            "11    6\n",
            "12    6\n",
            "13    6\n",
            "14    6\n",
            "15    6\n",
            "16    6\n",
            "17    6\n",
            "18    6\n",
            "19    6\n",
            "20    6\n",
            "21    6\n",
            "22    6\n",
            "23    6\n",
            "24    6\n",
            "25    6\n",
            "26    6\n",
            "27    6\n",
            "28    6\n",
            "29    6\n",
            "30    6\n",
            "31    6\n",
            "32    6\n",
            "33    6\n",
            "34    6\n",
            "35    6\n",
            "36    6\n",
            "37    6\n",
            "38    6\n",
            "39    6\n",
            "40    6\n",
            "41    6\n",
            "42    6\n",
            "43    6\n",
            "44    6\n",
            "45    6\n",
            "46    6\n",
            "47    6\n",
            "48    6\n",
            "49    6\n",
            "50    6\n",
            "51    6\n",
            "dtype: int64\n"
          ]
        }
      ]
    },
    {
      "cell_type": "code",
      "source": [
        "print(df['SALARIO'].min())\n",
        "print(df['SALARIO'].max())\n",
        "print(df['SALARIO'].mean())\n",
        "print(df['SALARIO'].describe())"
      ],
      "metadata": {
        "colab": {
          "base_uri": "https://localhost:8080/"
        },
        "id": "BUuy53GRvkk5",
        "outputId": "d738c37a-5478-4092-f648-7409db9a7134"
      },
      "execution_count": 6,
      "outputs": [
        {
          "output_type": "stream",
          "name": "stdout",
          "text": [
            "8044\n",
            "12369\n",
            "10285.538461538461\n",
            "count       52.000000\n",
            "mean     10285.538462\n",
            "std       1452.206752\n",
            "min       8044.000000\n",
            "25%       8821.500000\n",
            "50%      10227.000000\n",
            "75%      11794.500000\n",
            "max      12369.000000\n",
            "Name: SALARIO, dtype: float64\n"
          ]
        }
      ]
    },
    {
      "cell_type": "code",
      "source": [
        "print(df.groupby('REGION')['UNIDADES_VENDIDAS'].mean())\n"
      ],
      "metadata": {
        "colab": {
          "base_uri": "https://localhost:8080/"
        },
        "id": "5D1ChtRkxL_c",
        "outputId": "cd8b8f3a-014b-4b8b-af22-07ffd8fa9c5d"
      },
      "execution_count": 8,
      "outputs": [
        {
          "output_type": "stream",
          "name": "stdout",
          "text": [
            "REGION\n",
            "ESTE     307.375000\n",
            "NORTE    279.600000\n",
            "OESTE    297.521739\n",
            "SUR      343.363636\n",
            "Name: UNIDADES_VENDIDAS, dtype: float64\n"
          ]
        }
      ]
    }
  ]
}