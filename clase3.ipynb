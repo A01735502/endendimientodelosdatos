{
  "nbformat": 4,
  "nbformat_minor": 0,
  "metadata": {
    "colab": {
      "provenance": [],
      "authorship_tag": "ABX9TyNTVhk1Wobib7zrDql5P+fC",
      "include_colab_link": true
    },
    "kernelspec": {
      "name": "python3",
      "display_name": "Python 3"
    },
    "language_info": {
      "name": "python"
    }
  },
  "cells": [
    {
      "cell_type": "markdown",
      "metadata": {
        "id": "view-in-github",
        "colab_type": "text"
      },
      "source": [
        "<a href=\"https://colab.research.google.com/github/A01735502/endendimientodelosdatos/blob/main/clase3.ipynb\" target=\"_parent\"><img src=\"https://colab.research.google.com/assets/colab-badge.svg\" alt=\"Open In Colab\"/></a>"
      ]
    },
    {
      "cell_type": "code",
      "execution_count": null,
      "metadata": {
        "colab": {
          "base_uri": "https://localhost:8080/"
        },
        "id": "49NZ9lrhtLbw",
        "outputId": "95dc0a3d-10bc-4629-e51d-ed38f9ca641b"
      },
      "outputs": [
        {
          "output_type": "stream",
          "name": "stdout",
          "text": [
            "(838, 9)\n",
            "Index(['PassengerId', 'Survived', 'Pclass', 'Name', 'Sex', 'Age', 'Ticket',\n",
            "       'Fare', 'Embarked'],\n",
            "      dtype='object')\n"
          ]
        }
      ],
      "source": [
        "import pandas as pd\n",
        "\n",
        "df=pd.read_csv(\"trainLimpio.csv\")\n",
        "print(df.shape)\n",
        "print(df.columns)\n"
      ]
    },
    {
      "cell_type": "code",
      "source": [
        "#SELECCIÓN\n",
        "\n",
        "df2= df[['Survived', 'Pclass', 'Name', 'Sex','Age']]\n",
        "print(df2.shape)"
      ],
      "metadata": {
        "colab": {
          "base_uri": "https://localhost:8080/"
        },
        "id": "g9tepx0itmpl",
        "outputId": "7638fbae-13a1-4462-f371-cef75d0b67ca"
      },
      "execution_count": null,
      "outputs": [
        {
          "output_type": "stream",
          "name": "stdout",
          "text": [
            "(838, 5)\n"
          ]
        }
      ]
    },
    {
      "cell_type": "code",
      "source": [
        "#FILTRADO DE MUJEREES\n",
        "\n",
        "\n",
        "df3=df2[df2['Sex']=='female']\n",
        "print(df3.shape)"
      ],
      "metadata": {
        "colab": {
          "base_uri": "https://localhost:8080/"
        },
        "id": "YfxLb4OMuG9X",
        "outputId": "851d172e-b015-405b-a309-801695dd4a01"
      },
      "execution_count": null,
      "outputs": [
        {
          "output_type": "stream",
          "name": "stdout",
          "text": [
            "(301, 5)\n"
          ]
        }
      ]
    },
    {
      "cell_type": "code",
      "source": [
        "#filtrado con query\n",
        "\n",
        "query=df2['Sex']==\"female\"\n",
        "df_mujeres=df2[query]\n",
        "print(df_mujeres)\n",
        "print(df_mujeres[['Name', 'Age','Survived']]) ##No imprimes otro df sino que solo con el que has creado le agregas columnas"
      ],
      "metadata": {
        "colab": {
          "base_uri": "https://localhost:8080/"
        },
        "collapsed": true,
        "id": "w4Vpo4TqunKI",
        "outputId": "502f986b-b862-49b5-e1e9-4c2effb19720"
      },
      "execution_count": null,
      "outputs": [
        {
          "output_type": "stream",
          "name": "stdout",
          "text": [
            "     Survived  Pclass                                               Name  \\\n",
            "1           1       1  Cumings, Mrs. John Bradley (Florence Briggs Th...   \n",
            "2           1       3                             Heikkinen, Miss. Laina   \n",
            "3           1       1       Futrelle, Mrs. Jacques Heath (Lily May Peel)   \n",
            "7           1       3  Johnson, Mrs. Oscar W (Elisabeth Vilhelmina Berg)   \n",
            "8           1       2                Nasser, Mrs. Nicholas (Adele Achem)   \n",
            "..        ...     ...                                                ...   \n",
            "827         1       2       Shelley, Mrs. William (Imanita Parrish Hall)   \n",
            "829         0       3                       Dahlberg, Miss. Gerda Ulrika   \n",
            "832         0       3               Rice, Mrs. William (Margaret Norton)   \n",
            "834         1       1                       Graham, Miss. Margaret Edith   \n",
            "835         0       3           Johnston, Miss. Catherine Helen \"Carrie\"   \n",
            "\n",
            "        Sex   Age  \n",
            "1    female  38.0  \n",
            "2    female  26.0  \n",
            "3    female  35.0  \n",
            "7    female  27.0  \n",
            "8    female  14.0  \n",
            "..      ...   ...  \n",
            "827  female  25.0  \n",
            "829  female  22.0  \n",
            "832  female  39.0  \n",
            "834  female  19.0  \n",
            "835  female  23.0  \n",
            "\n",
            "[301 rows x 5 columns]\n",
            "                                                  Name   Age  Survived\n",
            "1    Cumings, Mrs. John Bradley (Florence Briggs Th...  38.0         1\n",
            "2                               Heikkinen, Miss. Laina  26.0         1\n",
            "3         Futrelle, Mrs. Jacques Heath (Lily May Peel)  35.0         1\n",
            "7    Johnson, Mrs. Oscar W (Elisabeth Vilhelmina Berg)  27.0         1\n",
            "8                  Nasser, Mrs. Nicholas (Adele Achem)  14.0         1\n",
            "..                                                 ...   ...       ...\n",
            "827       Shelley, Mrs. William (Imanita Parrish Hall)  25.0         1\n",
            "829                       Dahlberg, Miss. Gerda Ulrika  22.0         0\n",
            "832               Rice, Mrs. William (Margaret Norton)  39.0         0\n",
            "834                       Graham, Miss. Margaret Edith  19.0         1\n",
            "835           Johnston, Miss. Catherine Helen \"Carrie\"  23.0         0\n",
            "\n",
            "[301 rows x 3 columns]\n"
          ]
        }
      ]
    },
    {
      "cell_type": "code",
      "source": [
        "query=df2['Sex']==\"male\"\n",
        "df_hombres=df2[query]\n",
        "print(df_hombres)\n",
        "print(df_hombres[['Name', 'Age','Survived']])"
      ],
      "metadata": {
        "colab": {
          "base_uri": "https://localhost:8080/"
        },
        "collapsed": true,
        "id": "YMOVBUh7xFrN",
        "outputId": "05aef342-c36f-4a40-a2f7-09bd93809f81"
      },
      "execution_count": null,
      "outputs": [
        {
          "output_type": "stream",
          "name": "stdout",
          "text": [
            "     Survived  Pclass                            Name   Sex   Age\n",
            "0           0       3         Braund, Mr. Owen Harris  male  22.0\n",
            "4           0       3        Allen, Mr. William Henry  male  35.0\n",
            "5           0       1         McCarthy, Mr. Timothy J  male  54.0\n",
            "6           0       3  Palsson, Master. Gosta Leonard  male   2.0\n",
            "11          0       3  Saundercock, Mr. William Henry  male  20.0\n",
            "..        ...     ...                             ...   ...   ...\n",
            "830         0       2   Banfield, Mr. Frederick James  male  28.0\n",
            "831         0       3          Sutehall, Mr. Henry Jr  male  25.0\n",
            "833         0       2           Montvila, Rev. Juozas  male  27.0\n",
            "836         1       1           Behr, Mr. Karl Howell  male  26.0\n",
            "837         0       3             Dooley, Mr. Patrick  male  32.0\n",
            "\n",
            "[537 rows x 5 columns]\n",
            "                               Name   Age  Survived\n",
            "0           Braund, Mr. Owen Harris  22.0         0\n",
            "4          Allen, Mr. William Henry  35.0         0\n",
            "5           McCarthy, Mr. Timothy J  54.0         0\n",
            "6    Palsson, Master. Gosta Leonard   2.0         0\n",
            "11   Saundercock, Mr. William Henry  20.0         0\n",
            "..                              ...   ...       ...\n",
            "830   Banfield, Mr. Frederick James  28.0         0\n",
            "831          Sutehall, Mr. Henry Jr  25.0         0\n",
            "833           Montvila, Rev. Juozas  27.0         0\n",
            "836           Behr, Mr. Karl Howell  26.0         1\n",
            "837             Dooley, Mr. Patrick  32.0         0\n",
            "\n",
            "[537 rows x 3 columns]\n"
          ]
        }
      ]
    },
    {
      "cell_type": "code",
      "source": [
        "##listar los nombres, edades y clases de los hombres que no sorevivieron\n",
        "\n",
        "query1=df2['Survived'] == 0\n",
        "query2 =df2['Sex'] == \"male\"\n",
        "df3=df2[query1 & query2]\n",
        "print(df3.shape)\n",
        "print(df3[['Name', 'Age', 'Pclass']])"
      ],
      "metadata": {
        "colab": {
          "base_uri": "https://localhost:8080/"
        },
        "collapsed": true,
        "id": "Fleg1qRxyR8_",
        "outputId": "87ad2ebd-67f5-4383-c333-b37ee4a9f9cb"
      },
      "execution_count": null,
      "outputs": [
        {
          "output_type": "stream",
          "name": "stdout",
          "text": [
            "(434, 5)\n",
            "                               Name   Age  Pclass\n",
            "0           Braund, Mr. Owen Harris  22.0       3\n",
            "4          Allen, Mr. William Henry  35.0       3\n",
            "5           McCarthy, Mr. Timothy J  54.0       1\n",
            "6    Palsson, Master. Gosta Leonard   2.0       3\n",
            "11   Saundercock, Mr. William Henry  20.0       3\n",
            "..                              ...   ...     ...\n",
            "828              Markun, Mr. Johann  33.0       3\n",
            "830   Banfield, Mr. Frederick James  28.0       2\n",
            "831          Sutehall, Mr. Henry Jr  25.0       3\n",
            "833           Montvila, Rev. Juozas  27.0       2\n",
            "837             Dooley, Mr. Patrick  32.0       3\n",
            "\n",
            "[434 rows x 3 columns]\n"
          ]
        }
      ]
    },
    {
      "cell_type": "code",
      "source": [
        "## lista los nombres y edades de mujeres y niños\n",
        "\n",
        "query3=df2['Age'] <18\n",
        "query4=df2['Sex']==\"female\"\n",
        "df4=df2[query3 | query4]\n",
        "print(df4.shape)\n",
        "print(df4[['Name', 'Age']])\n"
      ],
      "metadata": {
        "colab": {
          "base_uri": "https://localhost:8080/"
        },
        "id": "XtDlN11tzuVV",
        "outputId": "8d96b08b-85c2-4d2e-f5f7-ae4fee11d597"
      },
      "execution_count": null,
      "outputs": [
        {
          "output_type": "stream",
          "name": "stdout",
          "text": [
            "(360, 5)\n",
            "                                                  Name   Age\n",
            "1    Cumings, Mrs. John Bradley (Florence Briggs Th...  38.0\n",
            "2                               Heikkinen, Miss. Laina  26.0\n",
            "3         Futrelle, Mrs. Jacques Heath (Lily May Peel)  35.0\n",
            "6                       Palsson, Master. Gosta Leonard   2.0\n",
            "7    Johnson, Mrs. Oscar W (Elisabeth Vilhelmina Berg)  27.0\n",
            "..                                                 ...   ...\n",
            "827       Shelley, Mrs. William (Imanita Parrish Hall)  25.0\n",
            "829                       Dahlberg, Miss. Gerda Ulrika  22.0\n",
            "832               Rice, Mrs. William (Margaret Norton)  39.0\n",
            "834                       Graham, Miss. Margaret Edith  19.0\n",
            "835           Johnston, Miss. Catherine Helen \"Carrie\"  23.0\n",
            "\n",
            "[360 rows x 2 columns]\n"
          ]
        }
      ]
    },
    {
      "cell_type": "code",
      "source": [
        "##listas los pasajeros que sobrevivieron que no iban en 1ra clase\n",
        "query1=df2['Pclass']!=1     ##   ! significa diferente\n",
        "query2=df2['Survived']==1\n",
        "df5=df2[query1 & query2]\n",
        "print(df5.shape)\n",
        "print(df5)"
      ],
      "metadata": {
        "colab": {
          "base_uri": "https://localhost:8080/"
        },
        "id": "Y8sKmuqG19n-",
        "outputId": "fc8f8720-73e3-446a-c288-a43b52e2f1f6"
      },
      "execution_count": null,
      "outputs": [
        {
          "output_type": "stream",
          "name": "stdout",
          "text": [
            "(192, 5)\n",
            "     Survived  Pclass                                               Name  \\\n",
            "2           1       3                             Heikkinen, Miss. Laina   \n",
            "7           1       3  Johnson, Mrs. Oscar W (Elisabeth Vilhelmina Berg)   \n",
            "8           1       2                Nasser, Mrs. Nicholas (Adele Achem)   \n",
            "9           1       3                    Sandstrom, Miss. Marguerite Rut   \n",
            "14          1       2                   Hewlett, Mrs. (Mary D Kingcome)    \n",
            "..        ...     ...                                                ...   \n",
            "813         1       2                       Duran y More, Miss. Asuncion   \n",
            "816         1       3                    Johnson, Master. Harold Theodor   \n",
            "821         1       2              Abelson, Mrs. Samuel (Hannah Wizosky)   \n",
            "822         1       3                   Najib, Miss. Adele Kiamie \"Jane\"   \n",
            "827         1       2       Shelley, Mrs. William (Imanita Parrish Hall)   \n",
            "\n",
            "        Sex   Age  \n",
            "2    female  26.0  \n",
            "7    female  27.0  \n",
            "8    female  14.0  \n",
            "9    female   4.0  \n",
            "14   female  55.0  \n",
            "..      ...   ...  \n",
            "813  female  27.0  \n",
            "816    male   4.0  \n",
            "821  female  28.0  \n",
            "822  female  15.0  \n",
            "827  female  25.0  \n",
            "\n",
            "[192 rows x 5 columns]\n"
          ]
        }
      ]
    }
  ]
}